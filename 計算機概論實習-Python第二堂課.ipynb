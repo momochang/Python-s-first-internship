{
 "cells": [
  {
   "cell_type": "markdown",
   "metadata": {},
   "source": [
    "# 計算機概論實習-Python第二堂課(請用心體會)"
   ]
  },
  {
   "cell_type": "markdown",
   "metadata": {},
   "source": [
    "Review for output and input quickly"
   ]
  },
  {
   "cell_type": "markdown",
   "metadata": {},
   "source": [
    "Review 1: Print out your city of birth"
   ]
  },
  {
   "cell_type": "code",
   "execution_count": 4,
   "metadata": {
    "ExecuteTime": {
     "end_time": "2019-09-19T04:55:38.223879Z",
     "start_time": "2019-09-19T04:55:38.208251Z"
    }
   },
   "outputs": [
    {
     "name": "stdout",
     "output_type": "stream",
     "text": [
      "Your birth city is Taipei!!\n"
     ]
    }
   ],
   "source": [
    "#Step 1. print your birty city\n",
    "print('Your birth city is Taipei!!')"
   ]
  },
  {
   "cell_type": "markdown",
   "metadata": {},
   "source": [
    "Review 2: Continuation Example 1, input your city of birth and print it"
   ]
  },
  {
   "cell_type": "code",
   "execution_count": 5,
   "metadata": {
    "ExecuteTime": {
     "end_time": "2019-09-19T04:55:42.536377Z",
     "start_time": "2019-09-19T04:55:38.958251Z"
    },
    "scrolled": true
   },
   "outputs": [
    {
     "name": "stdout",
     "output_type": "stream",
     "text": [
      "Please enter your birth city: Taipei\n",
      "Your birth city is  Taipei\n"
     ]
    }
   ],
   "source": [
    "#Step 1. input your birth city\n",
    "a = input('Please enter your birth city: ')\n",
    "print('Your birth city is ', a)"
   ]
  },
  {
   "cell_type": "markdown",
   "metadata": {},
   "source": [
    "Review 3: Enter value and stored to variable a. if type is string, converting to integer"
   ]
  },
  {
   "cell_type": "code",
   "execution_count": 76,
   "metadata": {
    "ExecuteTime": {
     "end_time": "2019-09-21T05:34:43.107494Z",
     "start_time": "2019-09-21T05:34:41.341869Z"
    }
   },
   "outputs": [
    {
     "name": "stdout",
     "output_type": "stream",
     "text": [
      "Please enter the number: 12\n",
      "type of a:  <class 'str'>\n",
      "after converted type of a:  <class 'int'>\n",
      "a =  12\n"
     ]
    }
   ],
   "source": [
    "#Step 1. enter the numer\n",
    "a = input(\"Please enter the number: \")\n",
    "print('type of a: ', type(a))\n",
    "a = int(a)\n",
    "print('after converted type of a: ', type(a))\n",
    "print('a = ', a)"
   ]
  },
  {
   "cell_type": "markdown",
   "metadata": {},
   "source": [
    "Review 4: Print the results of interger division and remainder"
   ]
  },
  {
   "cell_type": "code",
   "execution_count": 6,
   "metadata": {
    "ExecuteTime": {
     "end_time": "2019-09-19T04:55:51.476183Z",
     "start_time": "2019-09-19T04:55:51.444931Z"
    }
   },
   "outputs": [
    {
     "name": "stdout",
     "output_type": "stream",
     "text": [
      "14.666666666666666\n",
      "14\n",
      "14\n",
      "2\n"
     ]
    }
   ],
   "source": [
    "#method 1 \n",
    "#Step 1. used division /\n",
    "a = 44 / 3\n",
    "print(a)\n",
    "#Step 2. used int() converted to int\n",
    "a = int(a)\n",
    "print(a)\n",
    "#method 2 used division //\n",
    "a = 44 // 3\n",
    "print(a)\n",
    "#used mod %\n",
    "print(44 % 3)"
   ]
  },
  {
   "cell_type": "raw",
   "metadata": {},
   "source": [
    "Review 5: Ask the user to enter in values that might be floating point.\n",
    "    hint:\n",
    "        Let's calculate the amout of pay an hourly worker will get for working in a week.\n",
    "        Ask the user ro enter in the number of hours worked, convert this to a floating point value, and store this in a variable."
   ]
  },
  {
   "cell_type": "code",
   "execution_count": 8,
   "metadata": {
    "ExecuteTime": {
     "end_time": "2019-09-19T05:13:59.795935Z",
     "start_time": "2019-09-19T05:13:52.061560Z"
    },
    "scrolled": true
   },
   "outputs": [
    {
     "name": "stdout",
     "output_type": "stream",
     "text": [
      "Please enter the number of hours worked: 33.7\n",
      "<class 'str'>\n",
      "Please enter your hourly wage, without the $: 11.32\n",
      "<class 'str'>\n",
      "381.48400000000004\n"
     ]
    }
   ],
   "source": [
    "#Step 1. input your value in variable a\n",
    "a = input('Please enter the number of hours worked: ')\n",
    "print(type(a))\n",
    "a = float(a)\n",
    "#Step 2. calculated worker pay\n",
    "b = input('Please enter your hourly wage, without the $: ')\n",
    "print(type(b))\n",
    "b = float(b)\n",
    "c = a * b\n",
    "print(c)"
   ]
  },
  {
   "cell_type": "raw",
   "metadata": {},
   "source": [
    "if (....):\n",
    "    ........."
   ]
  },
  {
   "cell_type": "markdown",
   "metadata": {},
   "source": [
    "Example 1 (★★☆☆☆): Write an if statement to determine if a number is divisible by 5"
   ]
  },
  {
   "cell_type": "code",
   "execution_count": 14,
   "metadata": {
    "ExecuteTime": {
     "end_time": "2019-09-19T07:51:26.972846Z",
     "start_time": "2019-09-19T07:51:24.894721Z"
    }
   },
   "outputs": [
    {
     "name": "stdout",
     "output_type": "stream",
     "text": [
      "Please enter the value: 10\n",
      "<class 'str'>\n",
      "10 is divisible by 5\n"
     ]
    }
   ],
   "source": [
    "#Step 1. input the value \n",
    "a = input('Please enter the value: ')\n",
    "#Step 2. check it type\n",
    "print(type(a))\n",
    "a = int(a)\n",
    "#Step 3. used if statement to judge\n",
    "if (a % 5 ) == 0:\n",
    "    print(a, 'is divisible by 5')"
   ]
  },
  {
   "cell_type": "raw",
   "metadata": {},
   "source": [
    "if (...):\n",
    "    ......\n",
    "else:\n",
    "    ......"
   ]
  },
  {
   "cell_type": "markdown",
   "metadata": {},
   "source": [
    "Example 2 (★★☆☆☆): Continuation example 1, improved an if...else statement"
   ]
  },
  {
   "cell_type": "code",
   "execution_count": 15,
   "metadata": {
    "ExecuteTime": {
     "end_time": "2019-09-19T07:52:05.408072Z",
     "start_time": "2019-09-19T07:52:04.017448Z"
    }
   },
   "outputs": [
    {
     "name": "stdout",
     "output_type": "stream",
     "text": [
      "Please enter the value: 12\n",
      "<class 'str'>\n",
      "12 is not divisible by 5\n"
     ]
    }
   ],
   "source": [
    "#Step 1. input the value\n",
    "a = input('Please enter the value: ')\n",
    "#Step 2. check it type\n",
    "print(type(a))\n",
    "a = int(a)\n",
    "#Step 3. used if...else statement to judge\n",
    "if (a % 5) == 0:\n",
    "    print(a, 'is divisible by 5')\n",
    "else:\n",
    "    print(a, 'is not divisible by 5')"
   ]
  },
  {
   "cell_type": "markdown",
   "metadata": {},
   "source": [
    "Example 3 (★★★☆☆): determine if number 5 is greater than number 3\n",
    "        1. if true then print 5 is greater than 3\n",
    "        2. if false then print 5 is less than 3"
   ]
  },
  {
   "cell_type": "code",
   "execution_count": 18,
   "metadata": {
    "ExecuteTime": {
     "end_time": "2019-09-19T08:04:50.466282Z",
     "start_time": "2019-09-19T08:04:50.450655Z"
    }
   },
   "outputs": [
    {
     "name": "stdout",
     "output_type": "stream",
     "text": [
      "5 > 3 is  True\n",
      "5 < 3 is  False\n"
     ]
    }
   ],
   "source": [
    "#check the statement is True or False\n",
    "print('5 > 3 is ', 5 > 3)\n",
    "print('5 < 3 is ', 5 < 3)"
   ]
  },
  {
   "cell_type": "code",
   "execution_count": 20,
   "metadata": {
    "ExecuteTime": {
     "end_time": "2019-09-19T08:09:46.953562Z",
     "start_time": "2019-09-19T08:09:46.937935Z"
    }
   },
   "outputs": [
    {
     "name": "stdout",
     "output_type": "stream",
     "text": [
      "5 is greater than 3\n"
     ]
    }
   ],
   "source": [
    "#Step 1. used if...else to judge the 5 and 3 who is bigger\n",
    "if (5 > 3): # if 5 > 3 is True, then print('5 is greater than 3')\n",
    "    print('5 is greater than 3')\n",
    "else: # if 5 > 3 is False, then  print('3 is greater than 5')\n",
    "    print('3 is greater than 5')"
   ]
  },
  {
   "cell_type": "code",
   "execution_count": 23,
   "metadata": {
    "ExecuteTime": {
     "end_time": "2019-09-19T08:12:38.596476Z",
     "start_time": "2019-09-19T08:12:38.580849Z"
    }
   },
   "outputs": [
    {
     "name": "stdout",
     "output_type": "stream",
     "text": [
      "5 is greater than 3\n"
     ]
    }
   ],
   "source": [
    "#Step 2. test another statement to judge\n",
    "if (5 < 3): # if 5 < 3 is True, then print('3 is greater than 5')\n",
    "    print('3 is greater than 5')\n",
    "else: #if 5 < 3 is False, then print('5 is greater then 3')\n",
    "    print('5 is greater than 3')"
   ]
  },
  {
   "cell_type": "markdown",
   "metadata": {},
   "source": [
    "Example 4 (★★★☆☆): Continuation example 3, enter two values and used if...else to determine who is bigger"
   ]
  },
  {
   "cell_type": "code",
   "execution_count": 27,
   "metadata": {
    "ExecuteTime": {
     "end_time": "2019-09-19T08:22:44.406776Z",
     "start_time": "2019-09-19T08:22:43.328650Z"
    }
   },
   "outputs": [
    {
     "name": "stdout",
     "output_type": "stream",
     "text": [
      "Please enter the value 1: 3\n",
      "Please enter the value 2: 5\n",
      "<class 'str'>\n",
      "<class 'str'>\n",
      "value 1: 3 is smaller than value 2: 5\n"
     ]
    }
   ],
   "source": [
    "#Step 1. input the two values\n",
    "num1 = input('Please enter the value 1: ')\n",
    "num2 = input('Please enter the value 2: ')\n",
    "#Step 2. check it type \n",
    "print(type(num1))\n",
    "print(type(num2))\n",
    "#Step 3. if two variables value are not integer, converted to integer\n",
    "num1 = int(num1)\n",
    "num2 = int(num2)\n",
    "#Step 4. used if...else statement to judge\n",
    "if (num1 > num2):\n",
    "    print('value 1:', num1, 'is greater than value 2:', num2)\n",
    "else:\n",
    "    print('value 1:', num1, 'is smaller than value 2:', num2)"
   ]
  },
  {
   "cell_type": "raw",
   "metadata": {},
   "source": [
    "if...elif...else syntax:\n",
    "    if (...):\n",
    "        .....\n",
    "    elif (...):\n",
    "        .....\n",
    "    else:\n",
    "        ....."
   ]
  },
  {
   "cell_type": "markdown",
   "metadata": {},
   "source": [
    "Example 5 (★★★☆☆): Continuation example 4, enter two values and used if...elif...else to determine who is bigger"
   ]
  },
  {
   "cell_type": "code",
   "execution_count": 28,
   "metadata": {
    "ExecuteTime": {
     "end_time": "2019-09-19T08:25:49.537809Z",
     "start_time": "2019-09-19T08:25:47.881561Z"
    },
    "scrolled": true
   },
   "outputs": [
    {
     "name": "stdout",
     "output_type": "stream",
     "text": [
      "Please enter the value 1: 5\n",
      "Please enter the value 2: 5\n",
      "<class 'str'>\n",
      "<class 'str'>\n",
      "value 1: 5 is equal value 2: 5\n"
     ]
    }
   ],
   "source": [
    "#Step 1. input the two values\n",
    "num1 = input('Please enter the value 1: ')\n",
    "num2 = input('Please enter the value 2: ')\n",
    "#Step 2. check it type \n",
    "print(type(num1))\n",
    "print(type(num2))\n",
    "#Step 3. if two variables value are not integer, converted to integer\n",
    "num1 = int(num1)\n",
    "num2 = int(num2)\n",
    "#Step 4. used if...else statement to judge\n",
    "if (num1 > num2):\n",
    "    print('value 1:', num1, 'is greater than value 2:', num2)\n",
    "elif (num1 == num2):\n",
    "    print('value 1:', num1, 'is equal value 2:', num2)\n",
    "else:\n",
    "    print('value 1:', num1, 'is smaller than value 2:', num2)"
   ]
  },
  {
   "cell_type": "raw",
   "metadata": {},
   "source": [
    "for loop syntax:\n",
    "    for i in range(start, end, step):\n",
    "          ......."
   ]
  },
  {
   "cell_type": "markdown",
   "metadata": {},
   "source": [
    "Example 6 (★★☆☆☆): used for loop to print 0 ~ 4"
   ]
  },
  {
   "cell_type": "code",
   "execution_count": 2,
   "metadata": {
    "ExecuteTime": {
     "end_time": "2019-09-19T08:35:02.005705Z",
     "start_time": "2019-09-19T08:35:01.990079Z"
    }
   },
   "outputs": [
    {
     "name": "stdout",
     "output_type": "stream",
     "text": [
      "0\n",
      "1\n",
      "2\n",
      "3\n",
      "4\n"
     ]
    }
   ],
   "source": [
    "#Step 1. used for loop\n",
    "'''\n",
    "0: range start\n",
    "5: range end (Note: is < 5, not equal 5)\n",
    "1: range step (ex:0 → 1 → 2 → 3 → 4)\n",
    "'''\n",
    "for i in range(0, 5, 1):\n",
    "    print(i)"
   ]
  },
  {
   "cell_type": "markdown",
   "metadata": {},
   "source": [
    "Example 7 (★★★☆☆): Continuation Example 6, but don't change the line"
   ]
  },
  {
   "cell_type": "code",
   "execution_count": 35,
   "metadata": {
    "ExecuteTime": {
     "end_time": "2019-09-20T07:12:54.901669Z",
     "start_time": "2019-09-20T07:12:54.886044Z"
    }
   },
   "outputs": [
    {
     "name": "stdout",
     "output_type": "stream",
     "text": [
      "0 1 2 3 4 "
     ]
    }
   ],
   "source": [
    "#Step 1. used for loop\n",
    "'''\n",
    "end = '': when end of print i, python default change the line. \n",
    "          used this can change default to ' ' of end\n",
    "'''\n",
    "for i in range(0, 5, 1):\n",
    "    #print(i, end = '')\n",
    "    print(i, end = ' ')"
   ]
  },
  {
   "cell_type": "code",
   "execution_count": 3,
   "metadata": {},
   "outputs": [
    {
     "name": "stdout",
     "output_type": "stream",
     "text": [
      "01234"
     ]
    }
   ],
   "source": [
    "#other end method\n",
    "for i in range(0, 5, 1):\n",
    "    print(i, end = '')"
   ]
  },
  {
   "cell_type": "code",
   "execution_count": 4,
   "metadata": {},
   "outputs": [
    {
     "name": "stdout",
     "output_type": "stream",
     "text": [
      "0\t1\t2\t3\t4\t"
     ]
    }
   ],
   "source": [
    "#other end method\n",
    "for i in range(0, 5, 1):\n",
    "    print(i, end = '\\t')"
   ]
  },
  {
   "cell_type": "markdown",
   "metadata": {},
   "source": [
    "Example 8 (★★★★☆): Continuation Example 7, used two for loop\n",
    "        1. print 0 ~ 4 rows\n",
    "        2. print each row + 5 columns"
   ]
  },
  {
   "cell_type": "code",
   "execution_count": 43,
   "metadata": {
    "ExecuteTime": {
     "end_time": "2019-09-20T07:23:15.143393Z",
     "start_time": "2019-09-20T07:23:15.112142Z"
    }
   },
   "outputs": [
    {
     "name": "stdout",
     "output_type": "stream",
     "text": [
      "0 : 0 1 2 3 4 \n",
      "1 : 1 2 3 4 5 \n",
      "2 : 2 3 4 5 6 \n",
      "3 : 3 4 5 6 7 \n",
      "4 : 4 5 6 7 8 \n"
     ]
    }
   ],
   "source": [
    "#Step 1 used for loop in raw 0 ~ 4\n",
    "for i in range(0, 5, 1):\n",
    "    #print i and not changed line\n",
    "    print(i, ': ', end = '')\n",
    "    #Step 2 used a second for loop print column 0 ~ 4\n",
    "    for j in range(0, 5, 1):\n",
    "        print(j + i, end = ' ')\n",
    "    print()"
   ]
  },
  {
   "cell_type": "code",
   "execution_count": 56,
   "metadata": {
    "ExecuteTime": {
     "end_time": "2019-09-20T07:58:07.700924Z",
     "start_time": "2019-09-20T07:58:07.685300Z"
    }
   },
   "outputs": [
    {
     "name": "stdout",
     "output_type": "stream",
     "text": [
      "0 : 1 2 3 4 5 \n",
      "1 : 1 2 3 4 5 \n",
      "2 : 1 2 3 4 5 \n",
      "3 : 1 2 3 4 5 \n",
      "4 : 1 2 3 4 5 \n"
     ]
    }
   ],
   "source": [
    "#method 2\n",
    "for i in range(0, 5):\n",
    "    print(i, ': ', end = '')\n",
    "    for j in range(0, 5):\n",
    "        print(j + 1, end = ' ')\n",
    "    print()"
   ]
  },
  {
   "cell_type": "code",
   "execution_count": 57,
   "metadata": {
    "ExecuteTime": {
     "end_time": "2019-09-20T07:58:53.390106Z",
     "start_time": "2019-09-20T07:58:53.374479Z"
    }
   },
   "outputs": [
    {
     "name": "stdout",
     "output_type": "stream",
     "text": [
      "0 : 1 2 3 4 5 \n",
      "1 : 1 2 3 4 5 \n",
      "2 : 1 2 3 4 5 \n",
      "3 : 1 2 3 4 5 \n",
      "4 : 1 2 3 4 5 \n"
     ]
    }
   ],
   "source": [
    "#method 3\n",
    "for i in range(5):\n",
    "    print(i, ': ', end = '')\n",
    "    for j in range(5):\n",
    "        print(j + 1, end = ' ')\n",
    "    print()"
   ]
  },
  {
   "cell_type": "markdown",
   "metadata": {},
   "source": [
    "Example 9 (★★★★★): Nine-nine multiplication table\n",
    "        1. used two for loop\n",
    "        2. used \\t to typesetting"
   ]
  },
  {
   "cell_type": "code",
   "execution_count": 75,
   "metadata": {
    "ExecuteTime": {
     "end_time": "2019-09-21T05:18:35.132840Z",
     "start_time": "2019-09-21T05:18:35.101589Z"
    },
    "scrolled": false
   },
   "outputs": [
    {
     "name": "stdout",
     "output_type": "stream",
     "text": [
      "1 * 1 = 1\t2 * 1 = 2\t3 * 1 = 3\t4 * 1 = 4\t5 * 1 = 5\t6 * 1 = 6\t7 * 1 = 7\t8 * 1 = 8\t9 * 1 = 9\t\n",
      "1 * 2 = 2\t2 * 2 = 4\t3 * 2 = 6\t4 * 2 = 8\t5 * 2 = 10\t6 * 2 = 12\t7 * 2 = 14\t8 * 2 = 16\t9 * 2 = 18\t\n",
      "1 * 3 = 3\t2 * 3 = 6\t3 * 3 = 9\t4 * 3 = 12\t5 * 3 = 15\t6 * 3 = 18\t7 * 3 = 21\t8 * 3 = 24\t9 * 3 = 27\t\n",
      "1 * 4 = 4\t2 * 4 = 8\t3 * 4 = 12\t4 * 4 = 16\t5 * 4 = 20\t6 * 4 = 24\t7 * 4 = 28\t8 * 4 = 32\t9 * 4 = 36\t\n",
      "1 * 5 = 5\t2 * 5 = 10\t3 * 5 = 15\t4 * 5 = 20\t5 * 5 = 25\t6 * 5 = 30\t7 * 5 = 35\t8 * 5 = 40\t9 * 5 = 45\t\n",
      "1 * 6 = 6\t2 * 6 = 12\t3 * 6 = 18\t4 * 6 = 24\t5 * 6 = 30\t6 * 6 = 36\t7 * 6 = 42\t8 * 6 = 48\t9 * 6 = 54\t\n",
      "1 * 7 = 7\t2 * 7 = 14\t3 * 7 = 21\t4 * 7 = 28\t5 * 7 = 35\t6 * 7 = 42\t7 * 7 = 49\t8 * 7 = 56\t9 * 7 = 63\t\n",
      "1 * 8 = 8\t2 * 8 = 16\t3 * 8 = 24\t4 * 8 = 32\t5 * 8 = 40\t6 * 8 = 48\t7 * 8 = 56\t8 * 8 = 64\t9 * 8 = 72\t\n",
      "1 * 9 = 9\t2 * 9 = 18\t3 * 9 = 27\t4 * 9 = 36\t5 * 9 = 45\t6 * 9 = 54\t7 * 9 = 63\t8 * 9 = 72\t9 * 9 = 81\t\n"
     ]
    }
   ],
   "source": [
    "#Step 1. this for loop control row 1 ~ 9\n",
    "for i in range(1, 10, 1):\n",
    "    #Step 2. this for loop control column 1 ~ 9\n",
    "    for j in range(1, 10, 1):\n",
    "        #Step 3. print each row, column and used \\t of the end \n",
    "        print(j, '*', i, '=', i * j, end = '\\t')\n",
    "    #Step 4. when need change line, used print() that it can changed\n",
    "    print()"
   ]
  },
  {
   "cell_type": "raw",
   "metadata": {},
   "source": [
    "Example 10 (★★★★★): \n",
    "    Narcissistic number(水仙花數):\n",
    "        define: 153 = 1^3 + 5^3 + 3^3\n",
    "        In number 100 ~ 999, Which are the number of Narcissistic number, please find out and print it."
   ]
  },
  {
   "cell_type": "code",
   "execution_count": 55,
   "metadata": {
    "ExecuteTime": {
     "end_time": "2019-09-20T07:56:57.713206Z",
     "start_time": "2019-09-20T07:56:57.681956Z"
    }
   },
   "outputs": [
    {
     "name": "stdout",
     "output_type": "stream",
     "text": [
      "Narcissistic number:\n",
      "153 is Narcissistic number\n",
      "370 is Narcissistic number\n",
      "371 is Narcissistic number\n",
      "407 is Narcissistic number\n",
      "In 100 ~ 999, total have 4 of Narcissistic number\n"
     ]
    }
   ],
   "source": [
    "print('Narcissistic number:')\n",
    "counter = 0\n",
    "for i in range(100, 1000, 1):\n",
    "    '''\n",
    "    hundred: find hundreds of digits\n",
    "    ten: find ten of digits\n",
    "    one: find one of digits\n",
    "    Ex:\n",
    "    i = 153\n",
    "    hundred:\n",
    "        1. 153 / 100 = 1.53, we want integer 1 so used int()\n",
    "        2. int(1.53) = 1\n",
    "    ten:\n",
    "        1. 153 / 10 = 15.3, we want ten of digits so used %\n",
    "        2. 15.3 % 10 = 5.3, we want integer 5 so used int()\n",
    "        3. int(5.3) = 5\n",
    "    one:\n",
    "        1. 153 % 10 = 3.0, we want integer 3 so used int()\n",
    "        2. int(3.0) = 3\n",
    "    '''\n",
    "    \n",
    "    hundred = int(i / 100)\n",
    "    ten = int((i / 10) % 10)\n",
    "    one = int(i % 10)\n",
    "    \n",
    "    if (i == hundred ** 3 + ten ** 3 + one ** 3):\n",
    "        print(i , 'is Narcissistic number')\n",
    "        counter += 1\n",
    "print('In 100 ~ 999, total have', counter, 'of Narcissistic number')"
   ]
  },
  {
   "cell_type": "raw",
   "metadata": {},
   "source": [
    "Homework 1 (★★★☆☆):\n",
    "    input value into variable a\n",
    "    1. please do foolproof(防呆), determine that the variable a is an integer and is bigger than 0, if it is False, the syntax is not executed\n",
    "    2. if it is true, the hint as follow:\n",
    "        2.1 a is bigger than 10\n",
    "        2.2 a is equal 10\n",
    "        2.3 if 2.1 and 2.1 are false then a is smaller than 10"
   ]
  },
  {
   "cell_type": "code",
   "execution_count": null,
   "metadata": {},
   "outputs": [],
   "source": []
  },
  {
   "cell_type": "raw",
   "metadata": {},
   "source": [
    "Homework 2 (★★★★☆): Continuation Example 9, you must improved it\n",
    "    1. please enter i and j to two variable\n",
    "    2. please do foolproof and thinking where must used it\n",
    "       (hint: property of Nine-nine multiplication table)"
   ]
  },
  {
   "cell_type": "code",
   "execution_count": null,
   "metadata": {},
   "outputs": [],
   "source": []
  },
  {
   "cell_type": "raw",
   "metadata": {},
   "source": [
    "Homework 3 (★★★★☆): \n",
    "    HW 1-1 (Exchange rate conversion program)\n",
    "    please used Python write Day rate converter(當日匯率轉換程式) that convert NT$1,000 to equivalent pounds(英鎊), euros(歐元) and yen(日元)\n",
    "    hint:\n",
    "        please added the representative symbol of the currency before the amount"
   ]
  },
  {
   "cell_type": "code",
   "execution_count": null,
   "metadata": {},
   "outputs": [],
   "source": []
  },
  {
   "cell_type": "raw",
   "metadata": {},
   "source": [
    "Homework 4 (★★★☆☆):\n",
    "    Please used for loop and * to print the 5 * 5 of square picture "
   ]
  },
  {
   "cell_type": "code",
   "execution_count": 6,
   "metadata": {},
   "outputs": [
    {
     "name": "stdout",
     "output_type": "stream",
     "text": [
      "*****\n",
      "*****\n",
      "*****\n",
      "*****\n",
      "*****\n"
     ]
    }
   ],
   "source": [
    "for i in range(5):\n",
    "    for j in range(5):\n",
    "        print ('*', end = '')\n",
    "    print()"
   ]
  },
  {
   "cell_type": "raw",
   "metadata": {},
   "source": [
    "Homework 5 (★★★★★): \n",
    "    Permutations:\n",
    "    You have four numbers: 1,2,3,4\n",
    "        1. how many different and non-repetitive(不重複) numbers can be composed three digits?\n",
    "        2. what is it?"
   ]
  },
  {
   "cell_type": "code",
   "execution_count": 17,
   "metadata": {},
   "outputs": [
    {
     "name": "stdout",
     "output_type": "stream",
     "text": [
      "The number of  1 tuple: ( 1 , 2 , 3 )\n",
      "The number of  2 tuple: ( 1 , 2 , 4 )\n",
      "The number of  3 tuple: ( 1 , 3 , 2 )\n",
      "The number of  4 tuple: ( 1 , 3 , 4 )\n",
      "The number of  5 tuple: ( 1 , 4 , 2 )\n",
      "The number of  6 tuple: ( 1 , 4 , 3 )\n",
      "The number of  7 tuple: ( 2 , 1 , 3 )\n",
      "The number of  8 tuple: ( 2 , 1 , 4 )\n",
      "The number of  9 tuple: ( 2 , 3 , 1 )\n",
      "The number of  10 tuple: ( 2 , 3 , 4 )\n",
      "The number of  11 tuple: ( 2 , 4 , 1 )\n",
      "The number of  12 tuple: ( 2 , 4 , 3 )\n",
      "The number of  13 tuple: ( 3 , 1 , 2 )\n",
      "The number of  14 tuple: ( 3 , 1 , 4 )\n",
      "The number of  15 tuple: ( 3 , 2 , 1 )\n",
      "The number of  16 tuple: ( 3 , 2 , 4 )\n",
      "The number of  17 tuple: ( 3 , 4 , 1 )\n",
      "The number of  18 tuple: ( 3 , 4 , 2 )\n",
      "The number of  19 tuple: ( 4 , 1 , 2 )\n",
      "The number of  20 tuple: ( 4 , 1 , 3 )\n",
      "The number of  21 tuple: ( 4 , 2 , 1 )\n",
      "The number of  22 tuple: ( 4 , 2 , 3 )\n",
      "The number of  23 tuple: ( 4 , 3 , 1 )\n",
      "The number of  24 tuple: ( 4 , 3 , 2 )\n",
      "Total count =  24\n"
     ]
    }
   ],
   "source": [
    "count = 0\n",
    "for i in range(1, 5):\n",
    "    for j in range(1, 5):\n",
    "        for k in range(1, 5):\n",
    "            if (i != j) and (j != k) and (i != k):\n",
    "                #if (i + j + k) - (i + k + j) != 0:\n",
    "                count += 1\n",
    "                print('The number of ', count, 'tuple: (', i, ',', j, ',', k, ')')\n",
    "                \n",
    "print('Total count = ', count)"
   ]
  },
  {
   "cell_type": "code",
   "execution_count": null,
   "metadata": {},
   "outputs": [],
   "source": []
  }
 ],
 "metadata": {
  "kernelspec": {
   "display_name": "Python 3",
   "language": "python",
   "name": "python3"
  },
  "language_info": {
   "codemirror_mode": {
    "name": "ipython",
    "version": 3
   },
   "file_extension": ".py",
   "mimetype": "text/x-python",
   "name": "python",
   "nbconvert_exporter": "python",
   "pygments_lexer": "ipython3",
   "version": "3.7.3"
  },
  "toc": {
   "base_numbering": 1,
   "nav_menu": {},
   "number_sections": true,
   "sideBar": true,
   "skip_h1_title": false,
   "title_cell": "Table of Contents",
   "title_sidebar": "Contents",
   "toc_cell": false,
   "toc_position": {},
   "toc_section_display": true,
   "toc_window_display": false
  },
  "varInspector": {
   "cols": {
    "lenName": 16,
    "lenType": 16,
    "lenVar": 40
   },
   "kernels_config": {
    "python": {
     "delete_cmd_postfix": "",
     "delete_cmd_prefix": "del ",
     "library": "var_list.py",
     "varRefreshCmd": "print(var_dic_list())"
    },
    "r": {
     "delete_cmd_postfix": ") ",
     "delete_cmd_prefix": "rm(",
     "library": "var_list.r",
     "varRefreshCmd": "cat(var_dic_list()) "
    }
   },
   "types_to_exclude": [
    "module",
    "function",
    "builtin_function_or_method",
    "instance",
    "_Feature"
   ],
   "window_display": false
  }
 },
 "nbformat": 4,
 "nbformat_minor": 2
}
