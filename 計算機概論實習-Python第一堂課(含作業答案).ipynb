{
 "cells": [
  {
   "cell_type": "markdown",
   "metadata": {},
   "source": [
    "## 計算機概論實習-Python第一堂課(請用心體會)\n",
    "        install Anaconda(Python compile environment):https://www.anaconda.com/download/"
   ]
  },
  {
   "cell_type": "markdown",
   "metadata": {},
   "source": [
    "output syntax: \n",
    "    print(....)"
   ]
  },
  {
   "cell_type": "markdown",
   "metadata": {},
   "source": [
    "Example 1 (★☆☆☆☆): Please print \"Hello Python\" and type is string"
   ]
  },
  {
   "cell_type": "code",
   "execution_count": 2,
   "metadata": {
    "ExecuteTime": {
     "end_time": "2019-09-08T02:58:29.049119Z",
     "start_time": "2019-09-08T02:58:29.017869Z"
    }
   },
   "outputs": [
    {
     "name": "stdout",
     "output_type": "stream",
     "text": [
      "Hello Python\n",
      "Hello Python\n"
     ]
    }
   ],
   "source": [
    "##In Python, used code \" \" equivalent to code ' '\n",
    "# used code \" \" result below\n",
    "print(\"Hello Python\")\n",
    "# used code ' ' result below\n",
    "print('Hello Python')"
   ]
  },
  {
   "cell_type": "markdown",
   "metadata": {},
   "source": [
    "Example 2 (★☆☆☆☆): Please print number 3 and type is integer"
   ]
  },
  {
   "cell_type": "code",
   "execution_count": 5,
   "metadata": {
    "ExecuteTime": {
     "end_time": "2019-09-08T02:59:06.551554Z",
     "start_time": "2019-09-08T02:59:06.535927Z"
    }
   },
   "outputs": [
    {
     "name": "stdout",
     "output_type": "stream",
     "text": [
      "number is: 3\n"
     ]
    }
   ],
   "source": [
    "print('number is:', 3)"
   ]
  },
  {
   "cell_type": "markdown",
   "metadata": {},
   "source": [
    "Example 3 (★★☆☆☆):Please print number 3 which type are integer and string respectively. "
   ]
  },
  {
   "cell_type": "code",
   "execution_count": 13,
   "metadata": {
    "ExecuteTime": {
     "end_time": "2019-09-08T03:00:42.633357Z",
     "start_time": "2019-09-08T03:00:42.617734Z"
    }
   },
   "outputs": [
    {
     "name": "stdout",
     "output_type": "stream",
     "text": [
      "number is:  3\n",
      "number 3 type is: <class 'int'>\n",
      "number is:  3\n",
      "number 3 type is: <class 'str'>\n"
     ]
    }
   ],
   "source": [
    "# type is integer\n",
    "print('number is: ', 3)\n",
    "print('number', 3, 'type is:',type(3))\n",
    "# type is string\n",
    "print('number is:  3')\n",
    "print('number 3 type is:',type('3'))"
   ]
  },
  {
   "cell_type": "markdown",
   "metadata": {},
   "source": [
    "variable declare syntax:\n",
    "        1. xxx = xxxx\n",
    "        2. xxx = 'xxxx'"
   ]
  },
  {
   "cell_type": "markdown",
   "metadata": {},
   "source": [
    "Example 4 (★★☆☆☆): Please saved string Hello to variable hel that check it type and print it."
   ]
  },
  {
   "cell_type": "code",
   "execution_count": 15,
   "metadata": {
    "ExecuteTime": {
     "end_time": "2019-09-08T03:02:22.756589Z",
     "start_time": "2019-09-08T03:02:22.740961Z"
    }
   },
   "outputs": [
    {
     "name": "stdout",
     "output_type": "stream",
     "text": [
      "variable hel type is:  <class 'str'>\n",
      "variable hel value is:  Hello Python\n"
     ]
    }
   ],
   "source": [
    "# Step 1. saved string Hello to variable\n",
    "hel = 'Hello Python'\n",
    "# Step 2. check it type\n",
    "print('variable hel type is: ', type(hel))\n",
    "# Stpe 3. print variable content\n",
    "print('variable hel value is: ', hel)"
   ]
  },
  {
   "cell_type": "markdown",
   "metadata": {},
   "source": [
    "Example 5 (★★★☆☆): \n",
    "    Please saved integer 3 to variable a and integer 5 to variable b.\n",
    "        1. check it type and print it.\n",
    "        2. print the result of a plus b.\n",
    "        3. the result of a plus b placed into variable c and print it."
   ]
  },
  {
   "cell_type": "code",
   "execution_count": 2,
   "metadata": {
    "ExecuteTime": {
     "end_time": "2019-09-10T11:41:33.501621Z",
     "start_time": "2019-09-10T11:41:33.485998Z"
    }
   },
   "outputs": [
    {
     "name": "stdout",
     "output_type": "stream",
     "text": [
      "type of a is:  <class 'int'>\n",
      "type of b is:  <class 'int'>\n",
      "a + b =  8\n",
      "a + b =  8\n"
     ]
    }
   ],
   "source": [
    "# Step 1. saved integer 3 to variable a\n",
    "a = 3\n",
    "# Step 2. saved integer 5 to variable b\n",
    "b = 5\n",
    "# Step 3. check it type and print it respectively\n",
    "print('type of a is: ', type(a))\n",
    "print('type of b is: ', type(b))\n",
    "# Step 4. print the result of a plus b\n",
    "print('a + b = ', a + b)\n",
    "# Step 5. the result of a plus b placed into variable c\n",
    "c = a + b\n",
    "# Step 6. print c\n",
    "print('a + b = ', c)"
   ]
  },
  {
   "cell_type": "markdown",
   "metadata": {},
   "source": [
    "Example 6 (★★☆☆☆): Please saved string Hello to variable hel which coordinated with 'Python' to print 'Hello Python'."
   ]
  },
  {
   "cell_type": "code",
   "execution_count": 16,
   "metadata": {
    "ExecuteTime": {
     "end_time": "2019-09-08T03:02:36.131591Z",
     "start_time": "2019-09-08T03:02:36.115962Z"
    }
   },
   "outputs": [
    {
     "name": "stdout",
     "output_type": "stream",
     "text": [
      "Hello  Python\n"
     ]
    }
   ],
   "source": [
    "# Step 1. saved string Hello to variable\n",
    "hel = 'Hello'\n",
    "# Step 2. variable hel coordinated with string Python to print Hello Python\n",
    "##In python, used code + which your variable type must be string but code , type can be anything  \n",
    "print(hel , ' Python')\n",
    "print(hel + ' Python')"
   ]
  },
  {
   "cell_type": "markdown",
   "metadata": {},
   "source": [
    "input syntax: \n",
    "    xxx = input('...')\n",
    "    ('...') is hint "
   ]
  },
  {
   "cell_type": "markdown",
   "metadata": {},
   "source": [
    "Example 7 (★★☆☆☆): \n",
    "        Please enter the number and saved to variable a.\n",
    "        1. check it type and coordinated(配合) string to print a = your input number\n",
    "        2. if variable type is string that changed it to integer and print again.\n",
    "         "
   ]
  },
  {
   "cell_type": "code",
   "execution_count": 21,
   "metadata": {
    "ExecuteTime": {
     "end_time": "2019-09-08T03:15:55.908906Z",
     "start_time": "2019-09-08T03:15:54.830801Z"
    }
   },
   "outputs": [
    {
     "name": "stdout",
     "output_type": "stream",
     "text": [
      "Pleas enter number: 123\n",
      "------------------------------\n",
      "type of a is:  <class 'str'>\n",
      "The value of a is:  123\n",
      "------------------------------\n",
      "after conversion, type of a is:  <class 'int'>\n",
      "The value of a is:  123\n"
     ]
    }
   ],
   "source": [
    "# Step 1.enter the number into the variable a, using the input syntax\n",
    "a = input(\"Please enter number: \")\n",
    "print('------------------------------')\n",
    "# Step 2.check it type\n",
    "print(\"type of a is: \", type(a))\n",
    "print(\"The value of a is: \", a)\n",
    "print('------------------------------')\n",
    "# Step 3.changed value type to integer\n",
    "a = int(a)\n",
    "print(\"after conversion, type of a is: \", type(a))\n",
    "print(\"The value of a is: \", a)"
   ]
  },
  {
   "cell_type": "markdown",
   "metadata": {},
   "source": [
    "Example 8 (★★★☆☆): Please input two numbers to variable a1 and a2 that computed the result of two variable"
   ]
  },
  {
   "cell_type": "code",
   "execution_count": 1,
   "metadata": {
    "ExecuteTime": {
     "end_time": "2019-09-11T15:13:56.301275Z",
     "start_time": "2019-09-11T15:13:52.770023Z"
    }
   },
   "outputs": [
    {
     "name": "stdout",
     "output_type": "stream",
     "text": [
      "please input the first num: 1\n",
      "please input the second num: 2\n",
      "the type of a1 is:  <class 'str'>\n",
      "the type of a2 is:  <class 'str'>\n",
      "the result is:  3\n"
     ]
    }
   ],
   "source": [
    "# Step 1.input two numbers to variable a1 and a2\n",
    "a1 = input('please input the first num: ')\n",
    "a2 = input('please input the second num: ')\n",
    "# Step 2.check them type, if type is not integer then changed it to integer\n",
    "print('the type of a1 is: ', type(a1))\n",
    "print('the type of a2 is: ', type(a2))\n",
    "a1 = int(a1)\n",
    "a2 = int(a2)\n",
    "# Step 3.computed the result of two variable\n",
    "result = a1 + a2\n",
    "# Step 4.print it\n",
    "print('the result is: ', result)"
   ]
  },
  {
   "cell_type": "markdown",
   "metadata": {},
   "source": [
    "Example 9 (★★★★☆): Please input Trilateral(三邊) length of trinagle and calculated perimeter of the triangle"
   ]
  },
  {
   "cell_type": "code",
   "execution_count": 10,
   "metadata": {
    "ExecuteTime": {
     "end_time": "2019-09-12T08:32:52.961221Z",
     "start_time": "2019-09-12T08:32:50.742469Z"
    }
   },
   "outputs": [
    {
     "name": "stdout",
     "output_type": "stream",
     "text": [
      "Please input the Bottom edge: 3\n",
      "Please input the opposite: 4\n",
      "Please input the hypotenuse: 5\n",
      "the perimeter of traingle is:  12\n"
     ]
    }
   ],
   "source": [
    "#Step 1.input the bottom, hypotenuse and opposite\n",
    "bottom = input('Please input the Bottom edge: ')\n",
    "opposite = input('Please input the opposite: ')\n",
    "hypotenuse = input('Please input the hypotenuse: ')\n",
    "#Step 2.check it type, if type not integer then chenged to integer\n",
    "bottom = int(bottom)\n",
    "opposite = int(opposite)\n",
    "hypotenuse = int(hypotenuse)\n",
    "#Step 3.must do defensive\n",
    "if (bottom + opposite) < hypotenuse:\n",
    "    hypotenuse = bottom + opposite - 1\n",
    "    print('the hypotenuse after improved: ', hypotenuse)\n",
    "#Step 4.calculated area of the triangle\n",
    "perimeter = bottom + opposite + hypotenuse\n",
    "#Step 5.print it\n",
    "print('the perimeter of traingle is: ', perimeter)"
   ]
  },
  {
   "cell_type": "markdown",
   "metadata": {},
   "source": [
    "Example 10 (★★★★★): Please input Trilateral(三邊) length of trinagle and calculated area of the triangle"
   ]
  },
  {
   "cell_type": "code",
   "execution_count": 3,
   "metadata": {
    "ExecuteTime": {
     "end_time": "2019-09-12T08:24:35.018040Z",
     "start_time": "2019-09-12T08:24:33.002414Z"
    }
   },
   "outputs": [
    {
     "name": "stdout",
     "output_type": "stream",
     "text": [
      "Please input the Bottom edge: 4\n",
      "Please input the hypotenuse: 5\n",
      "Please input the opposite: 6\n",
      "the area of traingle is:  9.921567416492215\n"
     ]
    }
   ],
   "source": [
    "#Step 1.input the bottom, hypotenuse and opposite\n",
    "bottom = input('Please input the Bottom edge: ')\n",
    "opposite = input('Please input the opposite: ')\n",
    "hypotenuse = input('Please input the hypotenuse: ')\n",
    "#Step 2.check it type, if type not integer then chenged to integer\n",
    "bottom = int(bottom)\n",
    "opposite = int(opposite)\n",
    "hypotenuse = int(hypotenuse)\n",
    "#Step 3.must do defensive\n",
    "if (bottom + opposite) < hypotenuse:\n",
    "    hypotenuse = bottom + opposite - 1\n",
    "    print('the hypotenuse after improved: ', hypotenuse)\n",
    "#Step 4.calculated area of the triangle\n",
    "'''\n",
    "already known bottom and opposite: area = (bottom * opposite) / 2\n",
    "already Trilateral(三邊) length and Inscribed circle radius: \n",
    "    p = (bottom + opposite + hypotenuse) / 2\n",
    "    area  = (p * (p - bottom) * (p - opposite) * (p - hypotenuse)) ** 0.5\n",
    "'''\n",
    "p = (bottom + opposite + hypotenuse) / 2\n",
    "area = (p * (p - bottom) * (p - opposite) * (p - hypotenuse)) ** 0.5\n",
    "#Step 5.print it\n",
    "print('the area of traingle is: ', area)"
   ]
  },
  {
   "cell_type": "markdown",
   "metadata": {
    "ExecuteTime": {
     "end_time": "2019-09-08T05:30:14.000397Z",
     "start_time": "2019-09-08T05:30:13.984738Z"
    }
   },
   "source": [
    "---------------------------------Split-line-----------------------------------------"
   ]
  },
  {
   "cell_type": "markdown",
   "metadata": {},
   "source": [
    "Homework 1 (★☆☆☆☆):\n",
    "    1. print 'I Love Python, Python Love me'\n",
    "    2. print 66666 of integer\n",
    "    Thinking why executing result different from cout of C++"
   ]
  },
  {
   "cell_type": "code",
   "execution_count": 1,
   "metadata": {},
   "outputs": [
    {
     "name": "stdout",
     "output_type": "stream",
     "text": [
      "I Love Python, Python Love me\n",
      "66666\n"
     ]
    }
   ],
   "source": [
    "#1.\n",
    "print('I Love Python, Python Love me')\n",
    "#2.\n",
    "print(66666)"
   ]
  },
  {
   "cell_type": "markdown",
   "metadata": {},
   "source": [
    "Homework 2 (★★★☆☆):\n",
    "    declare variable a, b that value are 123123, but a is '123123', b is 123123\n",
    "    hint\n",
    "        1. check it type\n",
    "        2. according to their type and print them as 'string' or 'integer'\n",
    "        Thinking why '123123' and 123123 output is the same, but type is different "
   ]
  },
  {
   "cell_type": "code",
   "execution_count": 3,
   "metadata": {},
   "outputs": [
    {
     "name": "stdout",
     "output_type": "stream",
     "text": [
      "a =  123123\n",
      "b =  123123\n",
      "type of a is:  <class 'str'>\n",
      "type of b is:  <class 'int'>\n",
      "123123 type is string\n",
      "123123 type is integer\n"
     ]
    }
   ],
   "source": [
    "#Step 1.\n",
    "a = '123123'\n",
    "b = 123123\n",
    "print('a = ', a)\n",
    "print('b = ', b)\n",
    "#Step 2.\n",
    "print('type of a is: ', type(a))\n",
    "print('type of b is: ', type(b))\n",
    "#Step 3.\n",
    "print(a, 'type is string')\n",
    "print(b, 'type is integer')"
   ]
  },
  {
   "cell_type": "markdown",
   "metadata": {},
   "source": [
    "Homework 3.1 (★★★☆☆):\n",
    "    ask the user to enter their name that it say hello and print thier name.\n",
    "    1. used input to enter user name"
   ]
  },
  {
   "cell_type": "code",
   "execution_count": 4,
   "metadata": {},
   "outputs": [
    {
     "name": "stdout",
     "output_type": "stream",
     "text": [
      "Please enter your name: 帥哥\n",
      "hello  帥哥\n"
     ]
    }
   ],
   "source": [
    "username = input('Please enter your name: ')\n",
    "print('hello ', username)"
   ]
  },
  {
   "cell_type": "markdown",
   "metadata": {},
   "source": [
    "Homework 3.2 (★★★★☆):\n",
    "    ask the user to enter thier age that print out thuer age 5 years from now.\n",
    "    1. used input to enter user age\n",
    "    2. check it type\n",
    "    3. plus 5 year and print it"
   ]
  },
  {
   "cell_type": "code",
   "execution_count": 7,
   "metadata": {},
   "outputs": [
    {
     "name": "stdout",
     "output_type": "stream",
     "text": [
      "Please enter your age: 18\n",
      "type of userage is:  <class 'str'>\n",
      "your age after 5 years is  23\n"
     ]
    }
   ],
   "source": [
    "#Step 1. enter your age\n",
    "userage = input('Please enter your age: ')\n",
    "#Step 2. check it type\n",
    "print(\"type of userage is: \", type(userage))\n",
    "#Step 3. if type is string that changed to integer and plus 5 to variable\n",
    "userage = int(userage)\n",
    "userage = userage + 5\n",
    "print('your age after 5 years is ', userage)"
   ]
  },
  {
   "cell_type": "markdown",
   "metadata": {},
   "source": [
    "Homework 3.3 (★★★★☆):\n",
    "    write a program that hint the user to enter their name and age, then return a message telling the user which year he can live to 100 years old.\n",
    "    console result:\n",
    "    input name: xxx\n",
    "    \n",
    "    input age: 18\n",
    "    xxx can live to 100 years old in 2100"
   ]
  },
  {
   "cell_type": "code",
   "execution_count": 11,
   "metadata": {},
   "outputs": [
    {
     "name": "stdout",
     "output_type": "stream",
     "text": [
      "Please enter your name: 帥哥\n",
      "Please enter your age: 18\n",
      "帥哥 can lived to 100 years old in  2101\n"
     ]
    }
   ],
   "source": [
    "#Step 1. hint the user to enter their name and age\n",
    "username = input('Please enter your name: ')\n",
    "userage = int(input('Please enter your age: '))\n",
    "#Step 2. computing years after you lived to 100 years old\n",
    "userage = 100 - userage\n",
    "year = 2019 + userage\n",
    "#Step 3. print it\n",
    "print(username, 'can lived to 100 years old in ', year)"
   ]
  },
  {
   "cell_type": "code",
   "execution_count": null,
   "metadata": {},
   "outputs": [],
   "source": []
  }
 ],
 "metadata": {
  "kernelspec": {
   "display_name": "Python 3",
   "language": "python",
   "name": "python3"
  },
  "language_info": {
   "codemirror_mode": {
    "name": "ipython",
    "version": 3
   },
   "file_extension": ".py",
   "mimetype": "text/x-python",
   "name": "python",
   "nbconvert_exporter": "python",
   "pygments_lexer": "ipython3",
   "version": "3.7.3"
  },
  "toc": {
   "base_numbering": 1,
   "nav_menu": {},
   "number_sections": true,
   "sideBar": true,
   "skip_h1_title": false,
   "title_cell": "Table of Contents",
   "title_sidebar": "Contents",
   "toc_cell": false,
   "toc_position": {},
   "toc_section_display": true,
   "toc_window_display": false
  },
  "varInspector": {
   "cols": {
    "lenName": 16,
    "lenType": 16,
    "lenVar": 40
   },
   "kernels_config": {
    "python": {
     "delete_cmd_postfix": "",
     "delete_cmd_prefix": "del ",
     "library": "var_list.py",
     "varRefreshCmd": "print(var_dic_list())"
    },
    "r": {
     "delete_cmd_postfix": ") ",
     "delete_cmd_prefix": "rm(",
     "library": "var_list.r",
     "varRefreshCmd": "cat(var_dic_list()) "
    }
   },
   "types_to_exclude": [
    "module",
    "function",
    "builtin_function_or_method",
    "instance",
    "_Feature"
   ],
   "window_display": false
  }
 },
 "nbformat": 4,
 "nbformat_minor": 2
}
