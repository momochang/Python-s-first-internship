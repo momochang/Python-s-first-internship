{
 "cells": [
  {
   "cell_type": "markdown",
   "metadata": {},
   "source": [
    "# 計算機概論實習-Python第三堂課(請用心體會)"
   ]
  },
  {
   "cell_type": "markdown",
   "metadata": {},
   "source": [
    "Review for output and input quickly"
   ]
  },
  {
   "cell_type": "raw",
   "metadata": {},
   "source": [
    "Review 1 (★★★☆☆): Five-five multiplication table\n",
    "        1. used two for loop\n",
    "        2. used \\t to typesetting"
   ]
  },
  {
   "cell_type": "code",
   "execution_count": 3,
   "metadata": {
    "ExecuteTime": {
     "end_time": "2019-09-27T08:13:34.782115Z",
     "start_time": "2019-09-27T08:13:34.766492Z"
    }
   },
   "outputs": [
    {
     "name": "stdout",
     "output_type": "stream",
     "text": [
      "1 * 1 = 1\t2 * 1 = 2\t3 * 1 = 3\t4 * 1 = 4\t5 * 1 = 5\t\n",
      "1 * 2 = 2\t2 * 2 = 4\t3 * 2 = 6\t4 * 2 = 8\t5 * 2 = 10\t\n",
      "1 * 3 = 3\t2 * 3 = 6\t3 * 3 = 9\t4 * 3 = 12\t5 * 3 = 15\t\n",
      "1 * 4 = 4\t2 * 4 = 8\t3 * 4 = 12\t4 * 4 = 16\t5 * 4 = 20\t\n",
      "1 * 5 = 5\t2 * 5 = 10\t3 * 5 = 15\t4 * 5 = 20\t5 * 5 = 25\t\n"
     ]
    }
   ],
   "source": [
    "#Step 1. this for loop control row 1 ~ 9\n",
    "for i in range(1, 6, 1):\n",
    "    #Step 2. this for loop control column 1 ~ 9\n",
    "    for j in range(1, 6, 1):\n",
    "        #Step 3. print each row, column and used \\t of the end \n",
    "        print(j, '*', i, '=', i * j, end = '\\t')\n",
    "    #Step 4. when need change line, used print() that it can changed\n",
    "    print()"
   ]
  },
  {
   "cell_type": "raw",
   "metadata": {},
   "source": [
    "Review 2 (★★★☆☆): \n",
    "    Narcissistic number(水仙花數):\n",
    "        define: 153 = 1^3 + 5^3 + 3^3\n",
    "        In number 100 ~ 999, Which are the number of Narcissistic number, please find out and print it."
   ]
  },
  {
   "cell_type": "code",
   "execution_count": 5,
   "metadata": {
    "ExecuteTime": {
     "end_time": "2019-09-27T08:16:53.056274Z",
     "start_time": "2019-09-27T08:16:53.040648Z"
    }
   },
   "outputs": [
    {
     "name": "stdout",
     "output_type": "stream",
     "text": [
      "Narcissistic number:\n",
      "153 is Narcissistic number\n",
      "370 is Narcissistic number\n",
      "371 is Narcissistic number\n",
      "407 is Narcissistic number\n",
      "In 100 ~ 999, total have 4 of Narcissistic number\n"
     ]
    }
   ],
   "source": [
    "print('Narcissistic number:')\n",
    "#Step 1. set counter 0\n",
    "counter = 0\n",
    "#Step 2. computing 100 ~ 999 of Narcissistic number\n",
    "for i in range(100, 1000, 1):\n",
    "    hundred = int(i / 100)\n",
    "    ten = int((i / 10) % 10)\n",
    "    one = int(i % 10)\n",
    "    #Step 3. use if statement determined who is Narcissistic number\n",
    "    if (i == hundred ** 3 + ten ** 3 + one ** 3):\n",
    "        print(i , 'is Narcissistic number')\n",
    "        counter += 1\n",
    "print('In 100 ~ 999, total have', counter, 'of Narcissistic number')"
   ]
  },
  {
   "cell_type": "raw",
   "metadata": {},
   "source": [
    "Homework 1 (★★★☆☆):\n",
    "    input value into variable a\n",
    "    1. please do foolproof(防呆), determine that the variable a is an integer and is bigger than 0, if it is False, the syntax is not executed\n",
    "    2. if it is true, the hint as follow:\n",
    "        2.1 a is bigger than 10\n",
    "        2.2 a is equal 10\n",
    "        2.3 if 2.1 and 2.1 are false then a is smaller than 10"
   ]
  },
  {
   "cell_type": "code",
   "execution_count": 9,
   "metadata": {
    "ExecuteTime": {
     "end_time": "2019-09-29T03:29:08.498737Z",
     "start_time": "2019-09-29T03:29:06.826861Z"
    }
   },
   "outputs": [
    {
     "name": "stdout",
     "output_type": "stream",
     "text": [
      "Please enter value: ljlj\n",
      "ljlj not a value\n"
     ]
    }
   ],
   "source": [
    "#Step 1. enter value\n",
    "a = input('Please enter value: ')\n",
    "#Step 2. do foolproof\n",
    "if a.isdigit():\n",
    "    a = int(a)\n",
    "    #Step 3. used if...elif...else to determined a\n",
    "    if (a > 10):\n",
    "        print(a, 'is bigger than 10')\n",
    "    elif (a == 10):\n",
    "        print(a, 'is equal 10')\n",
    "    else:\n",
    "        print(a, 'is smaller than 10')\n",
    "else:\n",
    "    print(a, 'not a value')"
   ]
  },
  {
   "cell_type": "raw",
   "metadata": {},
   "source": [
    "Homework 2 (★★★★☆): Continuation Example 9, you must improved it\n",
    "    1. please enter i and j to two variable\n",
    "    2. please do foolproof and thinking where must used it\n",
    "       (hint: property of Nine-nine multiplication table)"
   ]
  },
  {
   "cell_type": "code",
   "execution_count": 12,
   "metadata": {
    "ExecuteTime": {
     "end_time": "2019-09-29T03:35:05.526261Z",
     "start_time": "2019-09-29T03:35:03.432511Z"
    }
   },
   "outputs": [
    {
     "name": "stdout",
     "output_type": "stream",
     "text": [
      "Please enter the row value: nkjnk\n",
      "Please enter the column value: mlkmkl\n",
      "Your two variable not a value, improved it to integer 9\n",
      "1 * 1 = 1\t2 * 1 = 2\t3 * 1 = 3\t4 * 1 = 4\t5 * 1 = 5\t6 * 1 = 6\t7 * 1 = 7\t8 * 1 = 8\t9 * 1 = 9\t\n",
      "1 * 2 = 2\t2 * 2 = 4\t3 * 2 = 6\t4 * 2 = 8\t5 * 2 = 10\t6 * 2 = 12\t7 * 2 = 14\t8 * 2 = 16\t9 * 2 = 18\t\n",
      "1 * 3 = 3\t2 * 3 = 6\t3 * 3 = 9\t4 * 3 = 12\t5 * 3 = 15\t6 * 3 = 18\t7 * 3 = 21\t8 * 3 = 24\t9 * 3 = 27\t\n",
      "1 * 4 = 4\t2 * 4 = 8\t3 * 4 = 12\t4 * 4 = 16\t5 * 4 = 20\t6 * 4 = 24\t7 * 4 = 28\t8 * 4 = 32\t9 * 4 = 36\t\n",
      "1 * 5 = 5\t2 * 5 = 10\t3 * 5 = 15\t4 * 5 = 20\t5 * 5 = 25\t6 * 5 = 30\t7 * 5 = 35\t8 * 5 = 40\t9 * 5 = 45\t\n",
      "1 * 6 = 6\t2 * 6 = 12\t3 * 6 = 18\t4 * 6 = 24\t5 * 6 = 30\t6 * 6 = 36\t7 * 6 = 42\t8 * 6 = 48\t9 * 6 = 54\t\n",
      "1 * 7 = 7\t2 * 7 = 14\t3 * 7 = 21\t4 * 7 = 28\t5 * 7 = 35\t6 * 7 = 42\t7 * 7 = 49\t8 * 7 = 56\t9 * 7 = 63\t\n",
      "1 * 8 = 8\t2 * 8 = 16\t3 * 8 = 24\t4 * 8 = 32\t5 * 8 = 40\t6 * 8 = 48\t7 * 8 = 56\t8 * 8 = 64\t9 * 8 = 72\t\n",
      "1 * 9 = 9\t2 * 9 = 18\t3 * 9 = 27\t4 * 9 = 36\t5 * 9 = 45\t6 * 9 = 54\t7 * 9 = 63\t8 * 9 = 72\t9 * 9 = 81\t\n"
     ]
    }
   ],
   "source": [
    "#Step 1. enter two value num1 and num2\n",
    "num1 = input('Please enter the row value: ')\n",
    "num2 = input('Please enter the column value: ')\n",
    "#Step 2. do foolproof that convert to integer\n",
    "if num1.isdigit() and num2.isdigit():\n",
    "    num1 = int(num1)\n",
    "    num2 = int(num2)\n",
    "else:\n",
    "    num1 = 9\n",
    "    num2 = 9\n",
    "    print('Your two variable not a value, improved it to integer 9')\n",
    "#Step 3. this for loop control row 1 ~ num1\n",
    "for i in range(1, num1 + 1, 1):\n",
    "    #Step 4. this for loop control column 1 ~ num2\n",
    "    for j in range(1, num2 + 1, 1):\n",
    "        #Step 5. print each row, column and used \\t of the end \n",
    "        print(j, '*', i, '=', i * j, end = '\\t')\n",
    "    #Step 6. when need change line, used print() that it can changed\n",
    "    print()"
   ]
  },
  {
   "cell_type": "raw",
   "metadata": {},
   "source": [
    "Homework 3 (★★★★☆): \n",
    "    HW 1-1 (Exchange rate conversion program)\n",
    "    please used Python write Day rate converter(當日匯率轉換程式) that convert NT$1,000 to equivalent pounds(英鎊), euros(歐元) and yen(日元)\n",
    "    hint:\n",
    "        please added the representative symbol of the currency before the amount"
   ]
  },
  {
   "cell_type": "code",
   "execution_count": 1,
   "metadata": {},
   "outputs": [
    {
     "name": "stdout",
     "output_type": "stream",
     "text": [
      "當日匯率轉換程式：\n",
      "牌價最新掛牌時間：2018/10/12 16:00\n",
      "1000元台幣轉成 £ 25 元英鎊!!\n",
      "1000元台幣轉成 € 28 元歐元!!\n",
      "1000元台幣轉成 ¥ 3766 元日圓!!\n"
     ]
    }
   ],
   "source": [
    "print(\"當日匯率轉換程式：\")\n",
    "print(\"牌價最新掛牌時間：2018/10/12 16:00\")\n",
    "#Step 1. converted dollars to GBP, EUR, JPY \n",
    "#Note: I want integer value\n",
    "dollars = 1000\n",
    "GBP = int(1000 / 39.69)\n",
    "EUR = int(1000 / 34.96)\n",
    "JPY = int(1000 / 0.2655)\n",
    "print(\"1000元台幣轉成 \\u00A3\", GBP, \"元英鎊!!\")\n",
    "print(\"1000元台幣轉成 \\u20AC\", EUR, \"元歐元!!\")\n",
    "print(\"1000元台幣轉成 \\u00A5\", JPY, \"元日圓!!\")"
   ]
  },
  {
   "cell_type": "raw",
   "metadata": {},
   "source": [
    "Homework 4 (★★★☆☆):\n",
    "    Please used for loop and * to print the 5 * 5 of square picture "
   ]
  },
  {
   "cell_type": "code",
   "execution_count": 46,
   "metadata": {
    "ExecuteTime": {
     "end_time": "2019-09-30T04:55:30.776971Z",
     "start_time": "2019-09-30T04:55:30.761344Z"
    }
   },
   "outputs": [
    {
     "name": "stdout",
     "output_type": "stream",
     "text": [
      "*****\n",
      "*****\n",
      "*****\n",
      "*****\n",
      "*****\n"
     ]
    }
   ],
   "source": [
    "for i in range(5):\n",
    "    for j in range(5):\n",
    "        print ('*', end = '')\n",
    "    print()"
   ]
  },
  {
   "cell_type": "raw",
   "metadata": {},
   "source": [
    "Homework 5 (★★★★★): \n",
    "    Permutations:\n",
    "    You have four numbers: 1,2,3,4\n",
    "        1. how many different and non-repetitive(不重複) numbers can be composed three digits?\n",
    "        2. what is it?"
   ]
  },
  {
   "cell_type": "code",
   "execution_count": 47,
   "metadata": {
    "ExecuteTime": {
     "end_time": "2019-09-30T04:55:36.542595Z",
     "start_time": "2019-09-30T04:55:36.511344Z"
    }
   },
   "outputs": [
    {
     "name": "stdout",
     "output_type": "stream",
     "text": [
      "The number of  1 tuple: ( 1 , 2 , 3 )\n",
      "The number of  2 tuple: ( 1 , 2 , 4 )\n",
      "The number of  3 tuple: ( 1 , 3 , 2 )\n",
      "The number of  4 tuple: ( 1 , 3 , 4 )\n",
      "The number of  5 tuple: ( 1 , 4 , 2 )\n",
      "The number of  6 tuple: ( 1 , 4 , 3 )\n",
      "The number of  7 tuple: ( 2 , 1 , 3 )\n",
      "The number of  8 tuple: ( 2 , 1 , 4 )\n",
      "The number of  9 tuple: ( 2 , 3 , 1 )\n",
      "The number of  10 tuple: ( 2 , 3 , 4 )\n",
      "The number of  11 tuple: ( 2 , 4 , 1 )\n",
      "The number of  12 tuple: ( 2 , 4 , 3 )\n",
      "The number of  13 tuple: ( 3 , 1 , 2 )\n",
      "The number of  14 tuple: ( 3 , 1 , 4 )\n",
      "The number of  15 tuple: ( 3 , 2 , 1 )\n",
      "The number of  16 tuple: ( 3 , 2 , 4 )\n",
      "The number of  17 tuple: ( 3 , 4 , 1 )\n",
      "The number of  18 tuple: ( 3 , 4 , 2 )\n",
      "The number of  19 tuple: ( 4 , 1 , 2 )\n",
      "The number of  20 tuple: ( 4 , 1 , 3 )\n",
      "The number of  21 tuple: ( 4 , 2 , 1 )\n",
      "The number of  22 tuple: ( 4 , 2 , 3 )\n",
      "The number of  23 tuple: ( 4 , 3 , 1 )\n",
      "The number of  24 tuple: ( 4 , 3 , 2 )\n",
      "Total count =  24\n"
     ]
    }
   ],
   "source": [
    "count = 0\n",
    "#Step 1. the first forloop was run hundreds of digits (1 ~ 4)\n",
    "for i in range(1, 5):\n",
    "    #Step 2. the second forloop was run tens of digits (1 ~ 4)\n",
    "    for j in range(1, 5):\n",
    "        #Step 3. the final forloop was run single digits (1 ~ 4)\n",
    "        for k in range(1, 5):\n",
    "            #Step 4. determind no duplicated numbers \n",
    "            if (i != j) and (j != k) and (i != k):\n",
    "                #if (i + j + k) - (i + k + j) != 0:\n",
    "                count += 1\n",
    "                print('The number of ', count, 'tuple: (', i, ',', j, ',', k, ')')\n",
    "                \n",
    "print('Total count = ', count)"
   ]
  },
  {
   "cell_type": "markdown",
   "metadata": {},
   "source": [
    "Example 1 (★★☆☆☆): print 3 * 3 square picture"
   ]
  },
  {
   "cell_type": "code",
   "execution_count": 48,
   "metadata": {
    "ExecuteTime": {
     "end_time": "2019-09-30T05:14:05.040788Z",
     "start_time": "2019-09-30T05:14:05.009536Z"
    }
   },
   "outputs": [
    {
     "name": "stdout",
     "output_type": "stream",
     "text": [
      "***\n",
      "***\n",
      "***\n"
     ]
    }
   ],
   "source": [
    "for i in range(3):\n",
    "    for j in range(3):\n",
    "        print('*', end = '')\n",
    "    print()"
   ]
  },
  {
   "cell_type": "markdown",
   "metadata": {},
   "source": [
    "Example 2 (★★★☆☆): print a trinagle with bottom of 3 and opposite of 3"
   ]
  },
  {
   "cell_type": "code",
   "execution_count": 49,
   "metadata": {
    "ExecuteTime": {
     "end_time": "2019-09-30T05:16:49.212663Z",
     "start_time": "2019-09-30T05:16:49.197036Z"
    }
   },
   "outputs": [
    {
     "name": "stdout",
     "output_type": "stream",
     "text": [
      "*\n",
      "**\n",
      "***\n"
     ]
    }
   ],
   "source": [
    "for i in range(3):\n",
    "    for j in range(i + 1):\n",
    "        print('*', end = '')\n",
    "    print()"
   ]
  },
  {
   "cell_type": "code",
   "execution_count": 50,
   "metadata": {
    "ExecuteTime": {
     "end_time": "2019-09-30T05:16:51.197038Z",
     "start_time": "2019-09-30T05:16:51.181411Z"
    },
    "scrolled": true
   },
   "outputs": [
    {
     "name": "stdout",
     "output_type": "stream",
     "text": [
      "*\n",
      "**\n",
      "***\n"
     ]
    }
   ],
   "source": [
    "#method 2\n",
    "star = '*'\n",
    "for i in range(3):\n",
    "    print(star * (i + 1))"
   ]
  },
  {
   "cell_type": "markdown",
   "metadata": {},
   "source": [
    "Example 3 (★★★☆☆):Continuation Example 2, print triangle on the other side"
   ]
  },
  {
   "cell_type": "code",
   "execution_count": 30,
   "metadata": {
    "ExecuteTime": {
     "end_time": "2019-09-29T04:02:46.579948Z",
     "start_time": "2019-09-29T04:02:46.564320Z"
    },
    "scrolled": true
   },
   "outputs": [
    {
     "name": "stdout",
     "output_type": "stream",
     "text": [
      "  *\n",
      " **\n",
      "***\n"
     ]
    }
   ],
   "source": [
    "for i in range(3):\n",
    "    for j in range(3):\n",
    "        if j >= (2 - i):\n",
    "            print('*', end = '')\n",
    "        else:\n",
    "            print(' ', end = '')\n",
    "    print()"
   ]
  },
  {
   "cell_type": "markdown",
   "metadata": {},
   "source": [
    "Example 4 (★★★★☆):Continuation Example 2 and 3, print symmetrical triangle"
   ]
  },
  {
   "cell_type": "code",
   "execution_count": 51,
   "metadata": {
    "ExecuteTime": {
     "end_time": "2019-09-30T05:18:44.915787Z",
     "start_time": "2019-09-30T05:18:44.900161Z"
    }
   },
   "outputs": [
    {
     "name": "stdout",
     "output_type": "stream",
     "text": [
      "*    *\n",
      "**  **\n",
      "******\n"
     ]
    }
   ],
   "source": [
    "for i in range(3):\n",
    "    for j in range(6):\n",
    "        if j >= (5 - i):\n",
    "            print('*', end = '')\n",
    "        elif j <= i:\n",
    "            print('*', end = '')\n",
    "        else:\n",
    "            print(' ', end = '')\n",
    "    print()"
   ]
  },
  {
   "cell_type": "code",
   "execution_count": 52,
   "metadata": {
    "ExecuteTime": {
     "end_time": "2019-09-30T05:18:46.197038Z",
     "start_time": "2019-09-30T05:18:46.181411Z"
    }
   },
   "outputs": [
    {
     "name": "stdout",
     "output_type": "stream",
     "text": [
      "*    *\n",
      "**  **\n",
      "******\n"
     ]
    }
   ],
   "source": [
    "#method 2\n",
    "for i in range(3):\n",
    "    for j in range(6):\n",
    "        if j >= (5 - i) or j <= i:\n",
    "            print('*', end = '')\n",
    "        else:\n",
    "            print(' ', end = '')\n",
    "    print()"
   ]
  },
  {
   "cell_type": "markdown",
   "metadata": {},
   "source": [
    "Example 5 (★★★★☆):Continuation Example 4, print no place to be printed "
   ]
  },
  {
   "cell_type": "code",
   "execution_count": 44,
   "metadata": {
    "ExecuteTime": {
     "end_time": "2019-09-29T04:12:01.516761Z",
     "start_time": "2019-09-29T04:12:01.501135Z"
    }
   },
   "outputs": [
    {
     "name": "stdout",
     "output_type": "stream",
     "text": [
      " **** \n",
      "  **  \n",
      "      \n"
     ]
    }
   ],
   "source": [
    "for i in range(3):\n",
    "    for j in range(6):\n",
    "        if j < (5 - i) and j > i:\n",
    "            print('*', end = '')\n",
    "        else:\n",
    "            print(' ', end = '')\n",
    "    print()"
   ]
  },
  {
   "cell_type": "markdown",
   "metadata": {},
   "source": [
    "Example 6 (★★★★☆): print the calendar for January of this year"
   ]
  },
  {
   "cell_type": "code",
   "execution_count": 66,
   "metadata": {
    "ExecuteTime": {
     "end_time": "2019-09-30T05:37:55.758581Z",
     "start_time": "2019-09-30T05:37:55.742956Z"
    }
   },
   "outputs": [
    {
     "name": "stdout",
     "output_type": "stream",
     "text": [
      "2019年1月\n",
      "\n",
      "日\t一\t二\t三\t四\t五\t六\n",
      " \t \t1\t2\t3\t4\t5\t\n",
      "6\t7\t8\t9\t10\t11\t12\t\n",
      "13\t14\t15\t16\t17\t18\t19\t\n",
      "20\t21\t22\t23\t24\t25\t26\t\n",
      "27\t28\t29\t30\t31\t"
     ]
    }
   ],
   "source": [
    "print(\"2019年1月\\n\")\n",
    "print(\"日\\t一\\t二\\t三\\t四\\t五\\t六\")\n",
    "#Step 1. set the register to print calend\n",
    "count = 0\n",
    "#Step 2. used forloop to run the calendar\n",
    "for i in range(33):\n",
    "    #Step 3. determind the day of the week\n",
    "    #judged if i < 2 then print ''\n",
    "    if (i < 2):\n",
    "        print(' ', end = '\\t')\n",
    "    else:\n",
    "        #print calen\n",
    "        print(count + 1, end = '\\t')\n",
    "        count += 1\n",
    "        #if that day was Saturday then changed line\n",
    "        if (i + 1) % 7 == 0:\n",
    "            print()"
   ]
  },
  {
   "cell_type": "markdown",
   "metadata": {},
   "source": [
    "Example 7 (★★★★★): print the calendar for February of this year"
   ]
  },
  {
   "cell_type": "code",
   "execution_count": 75,
   "metadata": {
    "ExecuteTime": {
     "end_time": "2019-09-30T05:45:13.816246Z",
     "start_time": "2019-09-30T05:45:13.800621Z"
    }
   },
   "outputs": [
    {
     "name": "stdout",
     "output_type": "stream",
     "text": [
      "2019年2月\n",
      "\n",
      "日\t一\t二\t三\t四\t五\t六\n",
      " \t \t \t \t \t1\t2\t\n",
      "3\t4\t5\t6\t7\t8\t9\t\n",
      "10\t11\t12\t13\t14\t15\t16\t\n",
      "17\t18\t19\t20\t21\t22\t23\t\n",
      "24\t25\t26\t27\t28\t"
     ]
    }
   ],
   "source": [
    "print(\"2019年2月\\n\")\n",
    "print(\"日\\t一\\t二\\t三\\t四\\t五\\t六\")\n",
    "#Step 1. set the register to print calend\n",
    "count = 0\n",
    "year = 2019\n",
    "#Step 2. used forloop to run the calendar\n",
    "for i in range(34):\n",
    "    #Step 3. determind the day of the week\n",
    "    #judged if i < 5 then print ''\n",
    "    if (i < 5):\n",
    "        print(' ', end = '\\t')\n",
    "    else:\n",
    "        #judged leap year\n",
    "        #formula: 四年一閏，百年不閏；四百年再閏\n",
    "        if (count == 28):\n",
    "            if ((year % 4 == 0 and year % 100 != 0) or (year % 400 == 0)):\n",
    "                pass\n",
    "            else:\n",
    "                break\n",
    "        #print calen\n",
    "        print(count + 1, end = '\\t')\n",
    "        count += 1\n",
    "        #if that day was Saturday then changed line\n",
    "        if (i + 1) % 7 == 0:\n",
    "            print()"
   ]
  },
  {
   "cell_type": "markdown",
   "metadata": {},
   "source": [
    "Homework 1 (★★★☆☆):print 4 * 4 pyramid"
   ]
  },
  {
   "cell_type": "code",
   "execution_count": 2,
   "metadata": {
    "ExecuteTime": {
     "end_time": "2019-09-29T04:16:08.391975Z",
     "start_time": "2019-09-29T04:16:08.360723Z"
    }
   },
   "outputs": [
    {
     "name": "stdout",
     "output_type": "stream",
     "text": [
      "   * \n",
      "  * * \n",
      " * * * \n",
      "* * * * \n"
     ]
    }
   ],
   "source": [
    "for i in range(4):         # 總共有4層\n",
    "    for j in range(4 - i - 1): # 在第一個*號出現前，先印出空白\n",
    "        print(\" \", end = \"\")\n",
    "    for k in range(i + 1):                # 印出該層所需要的*字數量\n",
    "        print(\"* \", end = \"\" )\n",
    "    print()                # 換行"
   ]
  },
  {
   "cell_type": "markdown",
   "metadata": {},
   "source": [
    "Homework 2 (★★★☆☆): When calendar was Januray that print Peasant calendar"
   ]
  },
  {
   "cell_type": "code",
   "execution_count": null,
   "metadata": {},
   "outputs": [],
   "source": []
  },
  {
   "cell_type": "markdown",
   "metadata": {},
   "source": [
    "Homework 3 (★★★★☆): When calendar was February that print Peasant calendar"
   ]
  },
  {
   "cell_type": "code",
   "execution_count": null,
   "metadata": {},
   "outputs": [],
   "source": []
  },
  {
   "cell_type": "markdown",
   "metadata": {},
   "source": [
    "Homework 4 (★★★★★): Enter which year, month and day and determined the day of the year"
   ]
  },
  {
   "cell_type": "code",
   "execution_count": null,
   "metadata": {},
   "outputs": [],
   "source": []
  }
 ],
 "metadata": {
  "kernelspec": {
   "display_name": "Python 3",
   "language": "python",
   "name": "python3"
  },
  "language_info": {
   "codemirror_mode": {
    "name": "ipython",
    "version": 3
   },
   "file_extension": ".py",
   "mimetype": "text/x-python",
   "name": "python",
   "nbconvert_exporter": "python",
   "pygments_lexer": "ipython3",
   "version": "3.7.3"
  },
  "toc": {
   "base_numbering": 1,
   "nav_menu": {},
   "number_sections": true,
   "sideBar": true,
   "skip_h1_title": false,
   "title_cell": "Table of Contents",
   "title_sidebar": "Contents",
   "toc_cell": false,
   "toc_position": {},
   "toc_section_display": true,
   "toc_window_display": false
  },
  "varInspector": {
   "cols": {
    "lenName": 16,
    "lenType": 16,
    "lenVar": 40
   },
   "kernels_config": {
    "python": {
     "delete_cmd_postfix": "",
     "delete_cmd_prefix": "del ",
     "library": "var_list.py",
     "varRefreshCmd": "print(var_dic_list())"
    },
    "r": {
     "delete_cmd_postfix": ") ",
     "delete_cmd_prefix": "rm(",
     "library": "var_list.r",
     "varRefreshCmd": "cat(var_dic_list()) "
    }
   },
   "types_to_exclude": [
    "module",
    "function",
    "builtin_function_or_method",
    "instance",
    "_Feature"
   ],
   "window_display": false
  }
 },
 "nbformat": 4,
 "nbformat_minor": 2
}
